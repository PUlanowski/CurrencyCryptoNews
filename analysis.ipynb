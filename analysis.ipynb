{
 "cells": [
  {
   "cell_type": "code",
   "execution_count": null,
   "id": "06e6b00c-503b-45b4-b2c1-a8d686df386b",
   "metadata": {},
   "outputs": [],
   "source": [
    "#create a spark session\n",
    "from pyspark.sql import SparkSession\n",
    "spark = SparkSession.builder \\\n",
    ".master(\"local[*]\") \\\n",
    ".appName(\"spark_on_docker\") \\\n",
    ".config(\"spark.jars\", \"/home/jovyan/postgresql-42.2.5.jar\") \\\n",
    ".getOrCreate()"
   ]
  },
  {
   "cell_type": "code",
   "execution_count": null,
   "id": "73e58e1c-9d66-4bc7-870a-d953e3cd0896",
   "metadata": {
    "pycharm": {
     "name": "#%%\n"
    }
   },
   "outputs": [],
   "source": [
    "df = spark.read \\\n",
    "    .format('jdbc') \\\n",
    "    .option('url', 'jdbc:postgresql://172.20.0.3/cnn') \\\n",
    "    .option('dbtable', 'information_schema.tables') \\\n",
    "    .option('user', 'postgres') \\\n",
    "    .option('password', '') \\\n",
    "    .option('driver', 'org.postgresql.Driver') \\\n",
    "    .load() \\\n",
    "    .filter(\"table_schema = 'public'\")\n",
    "df.createTempView('DIMS')"
   ]
  },
  {
   "cell_type": "code",
   "execution_count": null,
   "outputs": [],
   "source": [
    "spark.sql(\"select table_name from DIMS where table_name like 'dim%'\").show(5)\n",
    "print('total nr of dim tables:')\n",
    "spark.sql(\"select table_name from DIMS where table_name like 'dim%'\").count()"
   ],
   "metadata": {
    "collapsed": false,
    "pycharm": {
     "name": "#%%\n"
    }
   }
  },
  {
   "cell_type": "code",
   "execution_count": null,
   "outputs": [],
   "source": [
    "dim_tables_df = spark.sql(\"select table_name from DIMS where table_name like 'dim%'\").toPandas()\n",
    "dim_tables_df"
   ],
   "metadata": {
    "collapsed": false,
    "pycharm": {
     "name": "#%%\n"
    }
   }
  }
 ],
 "metadata": {
  "kernelspec": {
   "display_name": "Python 3",
   "language": "python",
   "name": "python3"
  },
  "language_info": {
   "codemirror_mode": {
    "name": "ipython",
    "version": 3
   },
   "file_extension": ".py",
   "mimetype": "text/x-python",
   "name": "python",
   "nbconvert_exporter": "python",
   "pygments_lexer": "ipython3",
   "version": "3.9.4"
  }
 },
 "nbformat": 4,
 "nbformat_minor": 5
}