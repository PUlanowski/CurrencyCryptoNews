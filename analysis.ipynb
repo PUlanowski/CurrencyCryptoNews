{
 "cells": [
  {
   "cell_type": "code",
   "execution_count": null,
   "id": "06e6b00c-503b-45b4-b2c1-a8d686df386b",
   "metadata": {},
   "outputs": [],
   "source": []
  },
  {
   "cell_type": "code",
   "execution_count": null,
   "id": "73e58e1c-9d66-4bc7-870a-d953e3cd0896",
   "metadata": {},
   "outputs": [],
   "source": []
  },
  {
   "cell_type": "code",
   "execution_count": 18,
   "id": "32be1f2c-b721-49b4-a5fb-262b3d3c2ec2",
   "metadata": {},
   "outputs": [],
   "source": [
    "#create a spark session\n",
    "from pyspark.sql import SparkSession\n",
    "spark = SparkSession.builder \\\n",
    ".master(\"local[*]\") \\\n",
    ".appName(\"spark_on_docker\") \\\n",
    ".config(\"spark.jars\", \"/home/jovyan/postgresql-42.2.5.jar\") \\\n",
    ".getOrCreate()"
   ]
  },
  {
   "cell_type": "code",
   "execution_count": null,
   "id": "1d33103a-0064-487c-90d5-8d520f907247",
   "metadata": {},
   "outputs": [],
   "source": [
    "#Download a README.md file from docker-stacks to test Spark\n",
    "!wget -q https://github.com/jupyter/docker-stacks/blob/d990a62010aededcda836196c4b04efece7f838f/README.md"
   ]
  },
  {
   "cell_type": "code",
   "execution_count": null,
   "id": "41b9170f-0dff-4539-bd30-1d072da44f8c",
   "metadata": {},
   "outputs": [],
   "source": [
    "#read the file and count how many rows have the word Jupyter\n",
    "textFile = spark.read.text(\"README.md\")\n",
    "rows_with_jupyter = textFile.filter(textFile.value.contains(\"Jupyter\")).count()\n",
    "\n",
    "print(\"There's %d rows with the word Jupyter.\"%rows_with_jupyter)"
   ]
  },
  {
   "cell_type": "code",
   "execution_count": 20,
   "id": "00b4a84f-388f-4064-a995-7826e6a92080",
   "metadata": {},
   "outputs": [
    {
     "data": {
      "text/html": [
       "\n",
       "            <div>\n",
       "                <p><b>SparkSession - in-memory</b></p>\n",
       "                \n",
       "        <div>\n",
       "            <p><b>SparkContext</b></p>\n",
       "\n",
       "            <p><a href=\"http://b6ee3342d595:4040\">Spark UI</a></p>\n",
       "\n",
       "            <dl>\n",
       "              <dt>Version</dt>\n",
       "                <dd><code>v3.1.2</code></dd>\n",
       "              <dt>Master</dt>\n",
       "                <dd><code>local[*]</code></dd>\n",
       "              <dt>AppName</dt>\n",
       "                <dd><code>spark_on_docker</code></dd>\n",
       "            </dl>\n",
       "        </div>\n",
       "        \n",
       "            </div>\n",
       "        "
      ],
      "text/plain": [
       "<pyspark.sql.session.SparkSession at 0x7ff95ce5bc10>"
      ]
     },
     "execution_count": 20,
     "metadata": {},
     "output_type": "execute_result"
    }
   ],
   "source": [
    "#print the session status\n",
    "spark"
   ]
  },
  {
   "cell_type": "code",
   "execution_count": null,
   "id": "70745212-82b1-4ef6-8c18-51db5042a98d",
   "metadata": {},
   "outputs": [],
   "source": []
  },
  {
   "cell_type": "code",
   "execution_count": 13,
   "id": "5b74fe68-e67e-4d99-b5d5-25e4c4af21d4",
   "metadata": {},
   "outputs": [],
   "source": [
    "spark.stop()"
   ]
  },
  {
   "cell_type": "code",
   "execution_count": 8,
   "id": "0fbd00f6-9ade-44d9-aba1-c06b85bae3a7",
   "metadata": {},
   "outputs": [
    {
     "name": "stdout",
     "output_type": "stream",
     "text": [
      "root\n",
      " |-- slug: string (nullable = true)\n",
      " |-- symbol: string (nullable = true)\n",
      " |-- name: string (nullable = true)\n",
      " |-- date: date (nullable = true)\n",
      " |-- ranknow: integer (nullable = true)\n",
      " |-- open: double (nullable = true)\n",
      " |-- high: double (nullable = true)\n",
      " |-- low: double (nullable = true)\n",
      " |-- close: double (nullable = true)\n",
      " |-- volume: double (nullable = true)\n",
      " |-- market: double (nullable = true)\n",
      " |-- close_ratio: double (nullable = true)\n",
      " |-- spread: double (nullable = true)\n",
      "\n"
     ]
    }
   ],
   "source": [
    "df = spark.read \\\n",
    "    .format('jdbc') \\\n",
    "    .option('url', 'jdbc:postgresql://172.20.0.2/cnn') \\\n",
    "    .option('dbtable', 'ccy_crypto_stage') \\\n",
    "    .option('user', 'postgres') \\\n",
    "    .option('password', '') \\\n",
    "    .option('driver', 'org.postgresql.Driver') \\\n",
    "    .load()\n",
    "\n",
    "df.printSchema()"
   ]
  },
  {
   "cell_type": "code",
   "execution_count": 9,
   "id": "c0e07da3-c0ad-43df-b6f1-f83749b143fd",
   "metadata": {},
   "outputs": [
    {
     "data": {
      "text/plain": [
       "['slug',\n",
       " 'symbol',\n",
       " 'name',\n",
       " 'date',\n",
       " 'ranknow',\n",
       " 'open',\n",
       " 'high',\n",
       " 'low',\n",
       " 'close',\n",
       " 'volume',\n",
       " 'market',\n",
       " 'close_ratio',\n",
       " 'spread']"
      ]
     },
     "execution_count": 9,
     "metadata": {},
     "output_type": "execute_result"
    }
   ],
   "source": [
    "df.columns"
   ]
  },
  {
   "cell_type": "code",
   "execution_count": 10,
   "id": "a214290b-9a7f-41c3-9d57-ef0eecbdc40f",
   "metadata": {},
   "outputs": [
    {
     "name": "stdout",
     "output_type": "stream",
     "text": [
      "942297\n"
     ]
    }
   ],
   "source": [
    "print(df.count())"
   ]
  },
  {
   "cell_type": "code",
   "execution_count": 12,
   "id": "1f048264-d62a-4ec8-95c7-0d3221da166f",
   "metadata": {},
   "outputs": [
    {
     "name": "stdout",
     "output_type": "stream",
     "text": [
      "+-------+------------------+\n",
      "|summary|             close|\n",
      "+-------+------------------+\n",
      "|  count|            942297|\n",
      "|   mean|346.10175115318617|\n",
      "| stddev| 13098.22308999982|\n",
      "|    min|           2.0E-10|\n",
      "|    max|         2300740.0|\n",
      "+-------+------------------+\n",
      "\n"
     ]
    }
   ],
   "source": [
    "df.select('close').describe().show()"
   ]
  },
  {
   "cell_type": "code",
   "execution_count": 19,
   "id": "e2bd5123-0ce6-49ea-939d-8294cfdc537d",
   "metadata": {},
   "outputs": [
    {
     "name": "stdout",
     "output_type": "stream",
     "text": [
      "+-------------+------------+----------------+----------+----------------------------+--------------------+-------------------------+------------------------+----------------------+------------------+--------+-------------+\n",
      "|table_catalog|table_schema|      table_name|table_type|self_referencing_column_name|reference_generation|user_defined_type_catalog|user_defined_type_schema|user_defined_type_name|is_insertable_into|is_typed|commit_action|\n",
      "+-------------+------------+----------------+----------+----------------------------+--------------------+-------------------------+------------------------+----------------------+------------------+--------+-------------+\n",
      "|          cnn|      public|         ccy_map|BASE TABLE|                        null|                null|                     null|                    null|                  null|               YES|      NO|         null|\n",
      "|          cnn|      public| ccy_rates_stage|BASE TABLE|                        null|                null|                     null|                    null|                  null|               YES|      NO|         null|\n",
      "|          cnn|      public|ccy_crypto_stage|BASE TABLE|                        null|                null|                     null|                    null|                  null|               YES|      NO|         null|\n",
      "|          cnn|      public|     dim_ccy_pen|BASE TABLE|                        null|                null|                     null|                    null|                  null|               YES|      NO|         null|\n",
      "|          cnn|      public|     dim_ccy_pkr|BASE TABLE|                        null|                null|                     null|                    null|                  null|               YES|      NO|         null|\n",
      "|          cnn|      public|     dim_ccy_uyi|BASE TABLE|                        null|                null|                     null|                    null|                  null|               YES|      NO|         null|\n",
      "|          cnn|      public|     dim_ccy_php|BASE TABLE|                        null|                null|                     null|                    null|                  null|               YES|      NO|         null|\n",
      "|          cnn|      public|     dim_ccy_pln|BASE TABLE|                        null|                null|                     null|                    null|                  null|               YES|      NO|         null|\n",
      "|          cnn|      public|     dim_ccy_qar|BASE TABLE|                        null|                null|                     null|                    null|                  null|               YES|      NO|         null|\n",
      "|          cnn|      public|     dim_ccy_omr|BASE TABLE|                        null|                null|                     null|                    null|                  null|               YES|      NO|         null|\n",
      "|          cnn|      public|     dim_ccy_rub|BASE TABLE|                        null|                null|                     null|                    null|                  null|               YES|      NO|         null|\n",
      "|          cnn|      public|     dim_ccy_sar|BASE TABLE|                        null|                null|                     null|                    null|                  null|               YES|      NO|         null|\n",
      "|          cnn|      public|     dim_ccy_sgd|BASE TABLE|                        null|                null|                     null|                    null|                  null|               YES|      NO|         null|\n",
      "|          cnn|      public|     dim_ccy_zar|BASE TABLE|                        null|                null|                     null|                    null|                  null|               YES|      NO|         null|\n",
      "|          cnn|      public|            fact|BASE TABLE|                        null|                null|                     null|                    null|                  null|               YES|      NO|         null|\n",
      "|          cnn|      public|     dim_ccy_dzd|BASE TABLE|                        null|                null|                     null|                    null|                  null|               YES|      NO|         null|\n",
      "|          cnn|      public|     dim_ccy_aud|BASE TABLE|                        null|                null|                     null|                    null|                  null|               YES|      NO|         null|\n",
      "|          cnn|      public|     dim_ccy_bhd|BASE TABLE|                        null|                null|                     null|                    null|                  null|               YES|      NO|         null|\n",
      "|          cnn|      public|     dim_ccy_ves|BASE TABLE|                        null|                null|                     null|                    null|                  null|               YES|      NO|         null|\n",
      "|          cnn|      public|     dim_ccy_bwp|BASE TABLE|                        null|                null|                     null|                    null|                  null|               YES|      NO|         null|\n",
      "+-------------+------------+----------------+----------+----------------------------+--------------------+-------------------------+------------------------+----------------------+------------------+--------+-------------+\n",
      "only showing top 20 rows\n",
      "\n"
     ]
    }
   ],
   "source": [
    "df = spark.read \\\n",
    "    .format('jdbc') \\\n",
    "    .option('url', 'jdbc:postgresql://172.20.0.2/cnn') \\\n",
    "    .option('dbtable', 'information_schema.tables') \\\n",
    "    .option('user', 'postgres') \\\n",
    "    .option('password', '') \\\n",
    "    .option('driver', 'org.postgresql.Driver') \\\n",
    "    .load() \\\n",
    "    .filter(\"table_schema = 'public'\").show()"
   ]
  },
  {
   "cell_type": "code",
   "execution_count": 21,
   "id": "e3eb836e-b663-465d-978b-5530d409adf2",
   "metadata": {},
   "outputs": [],
   "source": []
  }
 ],
 "metadata": {
  "kernelspec": {
   "display_name": "Python 3",
   "language": "python",
   "name": "python3"
  },
  "language_info": {
   "codemirror_mode": {
    "name": "ipython",
    "version": 3
   },
   "file_extension": ".py",
   "mimetype": "text/x-python",
   "name": "python",
   "nbconvert_exporter": "python",
   "pygments_lexer": "ipython3",
   "version": "3.9.4"
  }
 },
 "nbformat": 4,
 "nbformat_minor": 5
}